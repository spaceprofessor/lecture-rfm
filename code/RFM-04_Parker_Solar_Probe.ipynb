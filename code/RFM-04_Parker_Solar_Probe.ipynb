{
 "cells": [
  {
   "cell_type": "code",
   "execution_count": 19,
   "id": "c039262a-7087-4ee4-af54-eb71b5d3d218",
   "metadata": {},
   "outputs": [],
   "source": [
    "import numpy as np"
   ]
  },
  {
   "cell_type": "code",
   "execution_count": 20,
   "id": "6aec806d-d74c-45af-b286-fff5e68907f9",
   "metadata": {},
   "outputs": [],
   "source": [
    "# Constants for this problem\n",
    "μS = 132712439935.5 # Gravitational parameter of the Sun in [km^3/s^2]\n",
    "RS = 696000.0       # Radius of the Sun in [km]\n",
    "au = 149597870.7    # 1 au in [km]\n",
    "mile = 1.609344     # 1 mile in [km]"
   ]
  },
  {
   "cell_type": "code",
   "execution_count": 21,
   "id": "85687e23-d3b3-4304-9e1e-b09ec4096074",
   "metadata": {},
   "outputs": [
    {
     "data": {
      "text/plain": [
       "(9225523.200000001, 0.06166881357890879)"
      ]
     },
     "execution_count": 21,
     "metadata": {},
     "output_type": "execute_result"
    }
   ],
   "source": [
    "rp = RS + 5.3e6 * mile  # Pericenter radius in [km]\n",
    "rp, rp/au  # Output in [km] and [au]"
   ]
  },
  {
   "cell_type": "code",
   "execution_count": 22,
   "id": "88a4bb83-7a3a-486a-bf4b-c2143d022739",
   "metadata": {},
   "outputs": [
    {
     "data": {
      "text/plain": [
       "13.255062068965518"
      ]
     },
     "execution_count": 22,
     "metadata": {},
     "output_type": "execute_result"
    }
   ],
   "source": [
    "rp / RS  # Pericenter radius in solar radii"
   ]
  },
  {
   "cell_type": "code",
   "execution_count": 23,
   "id": "4a11bd16-4c41-4f4c-9fc5-3825796cda2d",
   "metadata": {},
   "outputs": [
    {
     "data": {
      "text/plain": [
       "(162.543744, 585157.4784)"
      ]
     },
     "execution_count": 23,
     "metadata": {},
     "output_type": "execute_result"
    }
   ],
   "source": [
    "Vp = 101 * mile  # Velocity at pericenter in [km/s]\n",
    "Vp, Vp*3600  # Output in [km/s] and [km/h]"
   ]
  },
  {
   "cell_type": "code",
   "execution_count": 24,
   "id": "06b89a7c-69b2-435e-ba17-ff64120e1a8d",
   "metadata": {},
   "outputs": [
    {
     "data": {
      "text/plain": [
       "(56467509.82160265, 0.37746198898005207)"
      ]
     },
     "execution_count": 24,
     "metadata": {},
     "output_type": "execute_result"
    }
   ],
   "source": [
    "a = rp / (2 - rp * Vp**2 / μS)  # Semi-major axis in [km]\n",
    "a, a/au  # Output in [km] and [au]"
   ]
  },
  {
   "cell_type": "code",
   "execution_count": 25,
   "id": "1587d906-623c-449e-a358-4d7dc3a6d6e9",
   "metadata": {},
   "outputs": [
    {
     "data": {
      "text/plain": [
       "0.8366224537057483"
      ]
     },
     "execution_count": 25,
     "metadata": {},
     "output_type": "execute_result"
    }
   ],
   "source": [
    "e = 1 - rp / a; e  # Eccentricity"
   ]
  },
  {
   "cell_type": "code",
   "execution_count": 26,
   "id": "52ee85ba",
   "metadata": {},
   "outputs": [
    {
     "data": {
      "text/plain": [
       "(103709496.4432053, 0.6932551643811954)"
      ]
     },
     "execution_count": 26,
     "metadata": {},
     "output_type": "execute_result"
    }
   ],
   "source": [
    "ra = a * (1 + e)  # Apocenter radius in [km]\n",
    "ra, ra/au  # Output in [km] and [au]"
   ]
  },
  {
   "cell_type": "code",
   "execution_count": 27,
   "id": "c4eebe07-da34-4ce0-89bb-aab86f93036f",
   "metadata": {},
   "outputs": [
    {
     "data": {
      "text/plain": [
       "(7318498.7933120765, 84.7048471448157)"
      ]
     },
     "execution_count": 27,
     "metadata": {},
     "output_type": "execute_result"
    }
   ],
   "source": [
    "P = 2 * np.pi * (a**3 / μS)**0.5  # Orbital period in seconds\n",
    "P, P/86400  # Output in seconds and days"
   ]
  }
 ],
 "metadata": {
  "kernelspec": {
   "display_name": "Python 3",
   "language": "python",
   "name": "python3"
  },
  "language_info": {
   "codemirror_mode": {
    "name": "ipython",
    "version": 3
   },
   "file_extension": ".py",
   "mimetype": "text/x-python",
   "name": "python",
   "nbconvert_exporter": "python",
   "pygments_lexer": "ipython3",
   "version": "3.10.0"
  }
 },
 "nbformat": 4,
 "nbformat_minor": 5
}
