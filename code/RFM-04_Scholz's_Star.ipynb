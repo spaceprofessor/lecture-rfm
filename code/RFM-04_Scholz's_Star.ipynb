{
 "cells": [
  {
   "cell_type": "markdown",
   "id": "5be8d9af",
   "metadata": {},
   "source": [
    "This notebook was created exclusively for the course \"Raumflugmechanik\"\n",
    "(Spaceflight Dynamics) at FH Aachen University of Applied Sciences\n",
    "by Prof. Dr. Bernd Dachwald on 06 November 2021."
   ]
  },
  {
   "cell_type": "markdown",
   "id": "0456ef27",
   "metadata": {},
   "source": [
    "### Exemplary solution for additional workbook problem on Scholz's Star"
   ]
  },
  {
   "cell_type": "code",
   "execution_count": 8,
   "id": "d0b6153d",
   "metadata": {},
   "outputs": [],
   "source": [
    "import numpy as np"
   ]
  },
  {
   "cell_type": "code",
   "execution_count": 9,
   "id": "dfc467e6-176f-43f1-9632-d17f3a768b75",
   "metadata": {},
   "outputs": [],
   "source": [
    "mu = 132712439935.5  # Gravitational parameter of the Sun in [km^3/s^2]\n",
    "au = 149597870.700  # 1 au in [km]"
   ]
  },
  {
   "cell_type": "code",
   "execution_count": 10,
   "id": "3ccd2333-c5b7-4543-9c94-bf07bb054a5c",
   "metadata": {},
   "outputs": [
    {
     "name": "stdout",
     "output_type": "stream",
     "text": [
      "7779089276399.999\n"
     ]
    }
   ],
   "source": [
    "rOCO = 52000*au  # Aphelion in [km]\n",
    "print(rOCO)"
   ]
  },
  {
   "cell_type": "markdown",
   "id": "4c1f2334-e85d-4c30-b0eb-eeb55017f26b",
   "metadata": {},
   "source": [
    "\\begin{equation*}\n",
    "V_{OCO} = \\sqrt\\frac{\\mu}{r_{OCO}}\n",
    "\\end{equation*}"
   ]
  },
  {
   "cell_type": "code",
   "execution_count": 11,
   "id": "f1ff3a4f-fcc6-47da-8958-72ddbe9ab8f7",
   "metadata": {},
   "outputs": [
    {
     "name": "stdout",
     "output_type": "stream",
     "text": [
      "130.61451407729336\n"
     ]
    }
   ],
   "source": [
    "VOCO = (mu / rOCO)**0.5\n",
    "print(VOCO*1000)  # Circular velocity in [m/s]"
   ]
  },
  {
   "cell_type": "markdown",
   "id": "d2f1d76b",
   "metadata": {},
   "source": [
    "\\begin{align*}\n",
    "a &= \\frac{r_p+r_a}{2}\\\\\n",
    "V_{crit} &= \\sqrt{\\frac{2\\mu}{r_a}-\\frac{\\mu}{a}}\n",
    "\\end{align*}"
   ]
  },
  {
   "cell_type": "code",
   "execution_count": 12,
   "id": "e416e708-aca9-4a6c-87eb-4fe51ba78743",
   "metadata": {},
   "outputs": [
    {
     "name": "stdout",
     "output_type": "stream",
     "text": [
      "3889623177082.117\n",
      "0.8300323708075448\n"
     ]
    }
   ],
   "source": [
    "ra = rOCO\n",
    "rp = 1.05*au\n",
    "a = (rp + ra) / 2\n",
    "print(a)  # Semi-major axis in [km]\n",
    "Vcrit = (2*mu / ra - mu / a)**0.5\n",
    "print(Vcrit*1000)  # Critical velocity in [m/s]"
   ]
  },
  {
   "cell_type": "markdown",
   "id": "4ca287df",
   "metadata": {},
   "source": [
    "\\begin{equation*}\n",
    "r_a = a(1+e) \\quad\\Leftrightarrow\\quad e=\\frac{r_a}{a}-1\n",
    "\\end{equation*}"
   ]
  },
  {
   "cell_type": "code",
   "execution_count": 13,
   "id": "3c3fef8d-e051-4e90-b3f7-a7477f130ec3",
   "metadata": {},
   "outputs": [
    {
     "name": "stdout",
     "output_type": "stream",
     "text": [
      "0.9999596162000575\n"
     ]
    }
   ],
   "source": [
    "e = ra / a - 1\n",
    "print(e)  # Eccentricity"
   ]
  },
  {
   "cell_type": "markdown",
   "id": "28991334",
   "metadata": {},
   "source": [
    "\\begin{equation*}\n",
    "TOF = \\frac{P}{2} = \\pi\\sqrt\\frac{a^3}{\\mu}\n",
    "\\end{equation*}"
   ]
  },
  {
   "cell_type": "code",
   "execution_count": 14,
   "id": "555cde1b-a24d-4eda-a053-ee394a4f5528",
   "metadata": {},
   "outputs": [
    {
     "name": "stdout",
     "output_type": "stream",
     "text": [
      "2096290.097018524\n"
     ]
    }
   ],
   "source": [
    "TOF = np.pi * (a**3 / mu)**0.5 / (86400*365.25)\n",
    "print(TOF)  # Time of flight in years"
   ]
  },
  {
   "cell_type": "code",
   "execution_count": 15,
   "id": "eb5ca8d8-3580-45f5-a190-b50fe7e1a554",
   "metadata": {},
   "outputs": [
    {
     "name": "stdout",
     "output_type": "stream",
     "text": [
      "2026290.097018524\n"
     ]
    }
   ],
   "source": [
    "ETA = TOF - 70000\n",
    "print(ETA)  # Estimated time of arrival in years"
   ]
  },
  {
   "cell_type": "markdown",
   "id": "c330a5c0",
   "metadata": {},
   "source": [
    "\\begin{equation*}\n",
    "V_p = \\sqrt{\\frac{2\\mu}{r_p}-\\frac{\\mu}{a}}\n",
    "\\end{equation*}"
   ]
  },
  {
   "cell_type": "code",
   "execution_count": 16,
   "id": "2c04bef9-b7ab-413d-b1c5-93cf0dff69f9",
   "metadata": {},
   "outputs": [
    {
     "name": "stdout",
     "output_type": "stream",
     "text": [
      "41.10636503049171\n"
     ]
    }
   ],
   "source": [
    "Vp = (2*mu / rp - mu / a)**0.5\n",
    "print(Vp)  # Perihelion velocity in [km/s]"
   ]
  },
  {
   "cell_type": "code",
   "execution_count": null,
   "id": "2779adc9",
   "metadata": {},
   "outputs": [],
   "source": []
  }
 ],
 "metadata": {
  "kernelspec": {
   "display_name": "Python 3 (ipykernel)",
   "language": "python",
   "name": "python3"
  },
  "language_info": {
   "codemirror_mode": {
    "name": "ipython",
    "version": 3
   },
   "file_extension": ".py",
   "mimetype": "text/x-python",
   "name": "python",
   "nbconvert_exporter": "python",
   "pygments_lexer": "ipython3",
   "version": "3.10.0"
  }
 },
 "nbformat": 4,
 "nbformat_minor": 5
}
