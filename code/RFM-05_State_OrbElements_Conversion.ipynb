{
 "cells": [
  {
   "cell_type": "markdown",
   "id": "e59d028b",
   "metadata": {},
   "source": [
    "This notebook was created exclusively for the course \"Raumflugmechanik\"\n",
    "(Spaceflight Dynamics) at FH Aachen University of Applied Sciences\n",
    "by Prof. Dr. Bernd Dachwald on 18 November 2021."
   ]
  },
  {
   "cell_type": "code",
   "execution_count": 1,
   "id": "71004ec2",
   "metadata": {},
   "outputs": [],
   "source": [
    "import numpy as np\n",
    "import matplotlib.pyplot as plt"
   ]
  },
  {
   "cell_type": "code",
   "execution_count": 2,
   "id": "1bc1fc06",
   "metadata": {},
   "outputs": [],
   "source": [
    "def sin(x): return np.sin(x)  # sin and cos are part of the NumPy library. This just makes the reading of the code easier\n",
    "def cos(x): return np.cos(x)  # because one can write sin() instead of np.sin() and cos() instead of np.cos()\n",
    "def norm(x): return np.linalg.norm(x)  # ... and the norm / magnitude of a vector\n",
    "pi = np.pi  # also not part of the Python core language but the NumPy library"
   ]
  },
  {
   "cell_type": "code",
   "execution_count": 3,
   "id": "b3d43c59",
   "metadata": {},
   "outputs": [],
   "source": [
    "mu = 398600.4  # Gravitational parameter of Earth in [km^3/s^2]"
   ]
  },
  {
   "cell_type": "markdown",
   "id": "8ac1dcef",
   "metadata": {},
   "source": [
    "# Input of spacecraft state to be transformed"
   ]
  },
  {
   "cell_type": "code",
   "execution_count": 4,
   "id": "d78a64f1",
   "metadata": {},
   "outputs": [],
   "source": [
    "rvec = np.array([10000.0, 40000.0, -5000.0])  # in [km]\n",
    "vvec = np.array([-1.5, 1.0, -0.1])            # in [km/s]"
   ]
  },
  {
   "cell_type": "code",
   "execution_count": 5,
   "id": "4087157b",
   "metadata": {},
   "outputs": [],
   "source": [
    "r = norm(rvec)\n",
    "v = norm(vvec)"
   ]
  },
  {
   "cell_type": "markdown",
   "id": "b204c730",
   "metadata": {},
   "source": [
    "# Calculation of orbital elements from state"
   ]
  },
  {
   "cell_type": "markdown",
   "id": "ea59536b",
   "metadata": {},
   "source": [
    "#### Step 1 – semi-major axis:"
   ]
  },
  {
   "cell_type": "code",
   "execution_count": 6,
   "id": "31b0aa56",
   "metadata": {},
   "outputs": [
    {
     "name": "stdout",
     "output_type": "stream",
     "text": [
      "Semi-major axis: 25015.181555 km\n"
     ]
    }
   ],
   "source": [
    "a = r / (2 - r * v**2 / mu)\n",
    "print(\"Semi-major axis: %f km\" %a)"
   ]
  },
  {
   "cell_type": "markdown",
   "id": "283194b4",
   "metadata": {},
   "source": [
    "#### Step 2 – eccentricity:"
   ]
  },
  {
   "cell_type": "code",
   "execution_count": 7,
   "id": "39a26840",
   "metadata": {},
   "outputs": [
    {
     "name": "stdout",
     "output_type": "stream",
     "text": [
      "Eccentricity: 0.707977\n"
     ]
    }
   ],
   "source": [
    "evec = (v**2 / mu - 1 / r) * rvec - 1 / mu * np.dot(rvec, vvec) * vvec\n",
    "e = norm(evec)\n",
    "print(\"Eccentricity: %f\" %e)"
   ]
  },
  {
   "cell_type": "markdown",
   "id": "1f6fb274",
   "metadata": {},
   "source": [
    "#### Step 3 - inclination:"
   ]
  },
  {
   "cell_type": "code",
   "execution_count": 8,
   "id": "523f5602",
   "metadata": {},
   "outputs": [
    {
     "name": "stdout",
     "output_type": "stream",
     "text": [
      "Inclination: 6.970729°\n"
     ]
    }
   ],
   "source": [
    "hvec = np.cross(rvec, vvec)\n",
    "h = norm(hvec)\n",
    "i = np.arccos(hvec[2]/h)  # 2 = z-component => h_z\n",
    "print(\"Inclination: %f°\" %np.rad2deg(i))"
   ]
  },
  {
   "cell_type": "markdown",
   "id": "c9ec8185",
   "metadata": {},
   "source": [
    "#### Step 4 - longitude of the ascending node:"
   ]
  },
  {
   "cell_type": "code",
   "execution_count": 9,
   "id": "31fb10f0",
   "metadata": {},
   "outputs": [
    {
     "name": "stdout",
     "output_type": "stream",
     "text": [
      "Longitude of the ascending node: 173.290163°\n"
     ]
    }
   ],
   "source": [
    "nvec = np.cross(([0.0 ,0.0, 1.0]), hvec)\n",
    "n = norm(nvec)\n",
    "Omega = np.arccos(nvec[0] / n)  # 0 = x-component => n_x\n",
    "if nvec[1] < 0.0: Omega = 2*pi - Omega\n",
    "print(\"Longitude of the ascending node: %f°\" %np.rad2deg(Omega))"
   ]
  },
  {
   "cell_type": "markdown",
   "id": "ccecd4c7",
   "metadata": {},
   "source": [
    "#### Step 5 – argument of pericenter:"
   ]
  },
  {
   "cell_type": "code",
   "execution_count": 10,
   "id": "c0443909",
   "metadata": {},
   "outputs": [
    {
     "name": "stdout",
     "output_type": "stream",
     "text": [
      "Argument of pericenter: 91.552889°\n"
     ]
    }
   ],
   "source": [
    "omega = np.arccos(np.dot(nvec, evec) / (n * e))\n",
    "if evec[2] < 0.0: omega = 2*pi - omega  # 2 = z-component => e_z\n",
    "print(\"Argument of pericenter: %f°\" %np.rad2deg(omega))"
   ]
  },
  {
   "cell_type": "markdown",
   "id": "4d9a7ea2",
   "metadata": {},
   "source": [
    "#### Step 6 - true anomaly:"
   ]
  },
  {
   "cell_type": "code",
   "execution_count": 11,
   "id": "1c2c977f",
   "metadata": {},
   "outputs": [
    {
     "name": "stdout",
     "output_type": "stream",
     "text": [
      "True anomaly: 171.174277°\n"
     ]
    }
   ],
   "source": [
    "f = np.arccos(np.dot(evec, rvec) / (e * r))\n",
    "if np.dot(rvec, vvec) < 0.0: f = 2*pi - f\n",
    "print(\"True anomaly: %f°\" %np.rad2deg(f))"
   ]
  },
  {
   "cell_type": "markdown",
   "id": "a131665b",
   "metadata": {},
   "source": [
    "# Re-calculation of state from orbital elements \n",
    "(also to check for correctness of conversion)"
   ]
  },
  {
   "cell_type": "markdown",
   "id": "67f54bdd",
   "metadata": {},
   "source": [
    "#### Step 1 - radius, speed, and orbital angular momentum:"
   ]
  },
  {
   "cell_type": "code",
   "execution_count": 12,
   "id": "19497df8",
   "metadata": {},
   "outputs": [],
   "source": [
    "r = a * (1 - e**2) / (1 + e * cos(f))\n",
    "v = (2*mu / r - mu / a)**0.5\n",
    "h = (mu * a * (1 - e**2))**0.5"
   ]
  },
  {
   "cell_type": "markdown",
   "id": "5f2be8c8",
   "metadata": {},
   "source": [
    "#### Step 2 - position and velocity vector:"
   ]
  },
  {
   "cell_type": "code",
   "execution_count": 13,
   "id": "5e3651c8",
   "metadata": {},
   "outputs": [
    {
     "name": "stdout",
     "output_type": "stream",
     "text": [
      "r = [10000. 40000. -5000.]\n",
      "v = [-1.5  1.  -0.1]\n"
     ]
    }
   ],
   "source": [
    "theta = omega + f\n",
    "rvec = r * np.array([\n",
    "    cos(Omega) * cos(theta) - sin(Omega) * sin(theta) * cos(i),\n",
    "    sin(Omega) * cos(theta) + cos(Omega) * sin(theta) * cos(i),\n",
    "                                           sin(theta) * sin(i)])\n",
    "print(\"r =\", rvec)\n",
    "f1 = sin(theta) + e * sin(omega)\n",
    "f2 = cos(theta) + e * cos(omega)\n",
    "vvec = - mu / h * np.array([\n",
    "    cos(Omega) * f1 + sin(Omega) * f2 * cos(i),\n",
    "    sin(Omega) * f1 - cos(Omega) * f2 * cos(i),\n",
    "                    -              f2 * sin(i)])\n",
    "print(\"v =\", vvec)"
   ]
  },
  {
   "cell_type": "code",
   "execution_count": null,
   "id": "5ae024bc",
   "metadata": {},
   "outputs": [],
   "source": []
  }
 ],
 "metadata": {
  "kernelspec": {
   "display_name": "Python 3",
   "language": "python",
   "name": "python3"
  },
  "language_info": {
   "codemirror_mode": {
    "name": "ipython",
    "version": 3
   },
   "file_extension": ".py",
   "mimetype": "text/x-python",
   "name": "python",
   "nbconvert_exporter": "python",
   "pygments_lexer": "ipython3",
   "version": "3.8.8"
  }
 },
 "nbformat": 4,
 "nbformat_minor": 5
}
