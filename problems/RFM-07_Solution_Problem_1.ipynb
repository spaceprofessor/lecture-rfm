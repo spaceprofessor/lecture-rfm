{
 "cells": [
  {
   "cell_type": "code",
   "execution_count": 1,
   "id": "6b6851b4-7574-4e38-945f-c2dca3aff112",
   "metadata": {},
   "outputs": [],
   "source": [
    "# Constants for this problem\n",
    "μ = 398600.4  # Gravitational parameter of Earth in [km^3/s^2]\n",
    "R = 6378.14   # Earth radius in [km]"
   ]
  },
  {
   "cell_type": "code",
   "execution_count": 2,
   "id": "f71e9d3d-f0e9-4ad8-ab9d-1abaf33c0af6",
   "metadata": {},
   "outputs": [
    {
     "data": {
      "text/plain": [
       "6678.14"
      ]
     },
     "execution_count": 2,
     "metadata": {},
     "output_type": "execute_result"
    }
   ],
   "source": [
    "hi = 300         # Altitude of initial orbit in [km]\n",
    "ri = R + hi; ri  # Radius of initial orbit in [km]"
   ]
  },
  {
   "cell_type": "code",
   "execution_count": 3,
   "id": "b14dd177-55a5-48c8-942c-4466342551fa",
   "metadata": {},
   "outputs": [
    {
     "data": {
      "text/plain": [
       "6678.14"
      ]
     },
     "execution_count": 3,
     "metadata": {},
     "output_type": "execute_result"
    }
   ],
   "source": [
    "hp = 300         # Altitude of pericenter in [km]\n",
    "rp = R + hp; rp  # Radius of pericenter in [km]"
   ]
  },
  {
   "cell_type": "code",
   "execution_count": 4,
   "id": "915226e3-2d69-40b6-bffe-b701875986ec",
   "metadata": {},
   "outputs": [
    {
     "data": {
      "text/plain": [
       "9378.14"
      ]
     },
     "execution_count": 4,
     "metadata": {},
     "output_type": "execute_result"
    }
   ],
   "source": [
    "ha = 3000        # Altitude of apocenter in [km]\n",
    "ra = R + ha; ra  # Radius of apocenter in [km]"
   ]
  },
  {
   "cell_type": "code",
   "execution_count": 5,
   "id": "bbac4047-8678-4082-a705-224e9e60fa0b",
   "metadata": {},
   "outputs": [
    {
     "data": {
      "text/plain": [
       "8028.139999999999"
      ]
     },
     "execution_count": 5,
     "metadata": {},
     "output_type": "execute_result"
    }
   ],
   "source": [
    "a = (rp + ra) / 2; a  # Semi-major axis of the final orbit in [km]"
   ]
  },
  {
   "cell_type": "code",
   "execution_count": 6,
   "id": "51741d1d-6d19-455f-84bc-4c024c9de501",
   "metadata": {},
   "outputs": [
    {
     "data": {
      "text/plain": [
       "7.725758091679103"
      ]
     },
     "execution_count": 6,
     "metadata": {},
     "output_type": "execute_result"
    }
   ],
   "source": [
    "Vi = (μ/ri)**0.5; Vi  # Velocity on initial circular orbit in [km/s]"
   ]
  },
  {
   "cell_type": "code",
   "execution_count": 7,
   "id": "f02b3be0-78ec-44d3-9acd-da2f1e371286",
   "metadata": {},
   "outputs": [
    {
     "data": {
      "text/plain": [
       "8.350106076022488"
      ]
     },
     "execution_count": 7,
     "metadata": {},
     "output_type": "execute_result"
    }
   ],
   "source": [
    "Vpf = (2*μ/ri - μ/a)**0.5; Vpf  # Velocity at pericenter of final orbit in [km/s]"
   ]
  },
  {
   "cell_type": "code",
   "execution_count": 8,
   "id": "e2b23146-aa18-4f3b-83c8-a15208613421",
   "metadata": {},
   "outputs": [
    {
     "data": {
      "text/plain": [
       "0.6243479843433848"
      ]
     },
     "execution_count": 8,
     "metadata": {},
     "output_type": "execute_result"
    }
   ],
   "source": [
    "ΔV = abs(Vpf - Vi); ΔV  # Required velocity change in [km/s]"
   ]
  }
 ],
 "metadata": {
  "kernelspec": {
   "display_name": "Python 3",
   "language": "python",
   "name": "python3"
  },
  "language_info": {
   "codemirror_mode": {
    "name": "ipython",
    "version": 3
   },
   "file_extension": ".py",
   "mimetype": "text/x-python",
   "name": "python",
   "nbconvert_exporter": "python",
   "pygments_lexer": "ipython3",
   "version": "3.8.8"
  }
 },
 "nbformat": 4,
 "nbformat_minor": 5
}
