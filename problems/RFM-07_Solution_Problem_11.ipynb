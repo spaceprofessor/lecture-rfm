{
 "cells": [
  {
   "cell_type": "code",
   "execution_count": 1,
   "id": "c039262a-7087-4ee4-af54-eb71b5d3d218",
   "metadata": {},
   "outputs": [],
   "source": [
    "import numpy as np"
   ]
  },
  {
   "cell_type": "code",
   "execution_count": 2,
   "id": "6aec806d-d74c-45af-b286-fff5e68907f9",
   "metadata": {},
   "outputs": [],
   "source": [
    "# Constants for this problem\n",
    "μ  = 132712439935.5 # Gravitational parameter of the Sun in [km^3/s^2]\n",
    "au = 149597870.7    # 1 au in [km]"
   ]
  },
  {
   "cell_type": "code",
   "execution_count": 3,
   "id": "f1cc9b05-317e-49e5-acfc-aaacaecddb76",
   "metadata": {},
   "outputs": [],
   "source": [
    "# Given values for this problem\n",
    "rE  =  1*au  # Radius of Earth orbit in [km]\n",
    "rN  = 30*au  # Radius of Neptun orbit in [km]\n",
    "rat = 40*au  # Apocenter radius of the two transfer ellipses in [km]"
   ]
  },
  {
   "cell_type": "markdown",
   "id": "779ec3f4-4401-4698-b5b3-be742ac8ad47",
   "metadata": {},
   "source": [
    "### Bi-elliptic transfer"
   ]
  },
  {
   "cell_type": "code",
   "execution_count": 4,
   "id": "6b6851b4-7574-4e38-945f-c2dca3aff112",
   "metadata": {},
   "outputs": [
    {
     "data": {
      "text/plain": [
       "(20.5, 35.0)"
      ]
     },
     "execution_count": 4,
     "metadata": {},
     "output_type": "execute_result"
    }
   ],
   "source": [
    "a1 = (rE + rat) / 2  # Semi-major axis of first transfer ellipse in [km]\n",
    "a2 = (rat + rN) / 2  # Semi-major axis of second transfer ellipse in [km]\n",
    "a1/au, a2/au  # Output in [au]"
   ]
  },
  {
   "cell_type": "code",
   "execution_count": 5,
   "id": "f71e9d3d-f0e9-4ad8-ab9d-1abaf33c0af6",
   "metadata": {
    "tags": []
   },
   "outputs": [
    {
     "data": {
      "text/plain": [
       "11.820370415464641"
      ]
     },
     "execution_count": 5,
     "metadata": {},
     "output_type": "execute_result"
    }
   ],
   "source": [
    "# ΔV to \"hop onto\" the first transfer ellipse in [km/s]\n",
    "VE    = (μ / rE)**0.5\n",
    "VtE   = (2*μ / rE - μ / a1)**0.5\n",
    "ΔV1bi = abs(VtE - VE); ΔV1bi"
   ]
  },
  {
   "cell_type": "code",
   "execution_count": 6,
   "id": "acb9bd37-896f-4ea9-a9c4-4603a8249245",
   "metadata": {},
   "outputs": [
    {
     "data": {
      "text/plain": [
       "3.3199058823925878"
      ]
     },
     "execution_count": 6,
     "metadata": {},
     "output_type": "execute_result"
    }
   ],
   "source": [
    "# ΔV to \"hop from\" the first transfer ellipse \"onto\" the second one in [km/s]\n",
    "Vat1   = (2*μ / rat - μ / a1)**0.5\n",
    "Vat2   = (2*μ / rat - μ / a2)**0.5\n",
    "ΔV2bi  = abs(Vat2 - Vat1); ΔV2bi"
   ]
  },
  {
   "cell_type": "code",
   "execution_count": 7,
   "id": "00e52474-8da3-4c94-aa6e-1cde3c5b099a",
   "metadata": {},
   "outputs": [
    {
     "data": {
      "text/plain": [
       "0.3754607246237276"
      ]
     },
     "execution_count": 7,
     "metadata": {},
     "output_type": "execute_result"
    }
   ],
   "source": [
    "# ΔV to \"hop off\" the second transfer ellipse in [km/s]\n",
    "VtN   = (2*μ / rN - μ / a2)**0.5\n",
    "VN    = (μ / rN )**0.5\n",
    "ΔV3bi = abs(VN - VtN); ΔV3bi"
   ]
  },
  {
   "cell_type": "code",
   "execution_count": 8,
   "id": "ac063519-741e-45d1-8833-1809ca306e2a",
   "metadata": {},
   "outputs": [
    {
     "data": {
      "text/plain": [
       "15.515737022480955"
      ]
     },
     "execution_count": 8,
     "metadata": {},
     "output_type": "execute_result"
    }
   ],
   "source": [
    "# Total ΔV for the bi-elliptic transfer in [km/s]\n",
    "ΔVbi = ΔV1bi + ΔV2bi + ΔV3bi; ΔVbi  "
   ]
  },
  {
   "cell_type": "code",
   "execution_count": 9,
   "id": "d39bf177-be31-442c-8b17-fb4e1c545d22",
   "metadata": {},
   "outputs": [
    {
     "data": {
      "text/plain": [
       "(4731843645.377741, 149.94307695698473)"
      ]
     },
     "execution_count": 9,
     "metadata": {},
     "output_type": "execute_result"
    }
   ],
   "source": [
    "# Time of flight for the bi-elliptic transfer in [s]\n",
    "TOFbi = np.pi * (a1**3 / μ)**0.5 + np.pi * (a2**3 / μ)**0.5\n",
    "TOFbi, TOFbi/(365.25*86400)  # Output in seconds and years"
   ]
  },
  {
   "cell_type": "markdown",
   "id": "ac2636a7-ab1c-4a45-a911-0c11ef49cd89",
   "metadata": {},
   "source": [
    "### Hohmann transfer"
   ]
  },
  {
   "cell_type": "code",
   "execution_count": 10,
   "id": "a9d847f3-5fa9-47c1-8d80-d188501dedc9",
   "metadata": {},
   "outputs": [
    {
     "data": {
      "text/plain": [
       "15.5"
      ]
     },
     "execution_count": 10,
     "metadata": {},
     "output_type": "execute_result"
    }
   ],
   "source": [
    "aH = (rE + rN) / 2; aH  # Semi-major axis of transfer ellipe in [km]\n",
    "aH/au  # Output in [au]"
   ]
  },
  {
   "cell_type": "code",
   "execution_count": 11,
   "id": "431dd678-2d51-4c22-bc9f-184d1b2a7cd0",
   "metadata": {},
   "outputs": [
    {
     "data": {
      "text/plain": [
       "15.708952316645716"
      ]
     },
     "execution_count": 11,
     "metadata": {},
     "output_type": "execute_result"
    }
   ],
   "source": [
    "VE   = (μ / rE)**0.5\n",
    "Vpt  = (2*μ / rE - μ / aH)**0.5\n",
    "ΔV1H = abs(Vpt - VE)  # ΔV to \"hop onto\" the Hohmann transfer ellipse in [km/s]\n",
    "Vat  = (2*μ / rN - μ / aH)**0.5\n",
    "VN   = (μ / rN)**0.5\n",
    "ΔV2H = abs(VN - Vat)  # ΔV to \"hop off\" the Hohmann transfer ellipse in [km/s]\n",
    "ΔVH  = ΔV1H + ΔV2H; ΔVH  # Total ΔV for the Hohmann transfer in [km/s]"
   ]
  },
  {
   "cell_type": "code",
   "execution_count": 12,
   "id": "0a7d5eed-5a23-4bf9-96df-5a1ca02ef4ff",
   "metadata": {},
   "outputs": [
    {
     "data": {
      "text/plain": [
       "(962896750.5560886, 30.512356787464466)"
      ]
     },
     "execution_count": 12,
     "metadata": {},
     "output_type": "execute_result"
    }
   ],
   "source": [
    "# Time of flight for the Hohmann transfer in [s]\n",
    "TOFH = np.pi * (aH**3 / μ)**0.5\n",
    "TOFH, TOFH/(365.25*86400)  # Output in seconds and years"
   ]
  },
  {
   "cell_type": "markdown",
   "id": "bf76b007-997e-434a-9ce1-5c30827d350c",
   "metadata": {},
   "source": [
    "### Comparison Bi-elliptic vs. Hohmann"
   ]
  },
  {
   "cell_type": "code",
   "execution_count": 13,
   "id": "d29d4143-264b-4754-8a54-2862a8036c0f",
   "metadata": {},
   "outputs": [
    {
     "data": {
      "text/plain": [
       "-0.19321529416476046"
      ]
     },
     "execution_count": 13,
     "metadata": {},
     "output_type": "execute_result"
    }
   ],
   "source": [
    "# Absolute difference in ΔV in [km/s]\n",
    "ΔVbi - ΔVH"
   ]
  },
  {
   "cell_type": "code",
   "execution_count": 14,
   "id": "918fbf36-486c-4c07-a5f6-a2d78ba482b1",
   "metadata": {},
   "outputs": [
    {
     "data": {
      "text/plain": [
       "-1.2299693211241292"
      ]
     },
     "execution_count": 14,
     "metadata": {},
     "output_type": "execute_result"
    }
   ],
   "source": [
    "# Relative difference in ΔV in %\n",
    "(ΔVbi - ΔVH) / ΔVH * 100"
   ]
  },
  {
   "cell_type": "code",
   "execution_count": 15,
   "id": "1aa14bde-eda4-4544-bb84-d94a2f0b48c7",
   "metadata": {},
   "outputs": [
    {
     "data": {
      "text/plain": [
       "119.43072016952026"
      ]
     },
     "execution_count": 15,
     "metadata": {},
     "output_type": "execute_result"
    }
   ],
   "source": [
    "# Absolute difference in time of flight in years\n",
    "(TOFbi - TOFH)/(365.25*86400)"
   ]
  },
  {
   "cell_type": "code",
   "execution_count": 17,
   "id": "05f74181-822b-426c-a49f-82b6552a9656",
   "metadata": {},
   "outputs": [
    {
     "data": {
      "text/plain": [
       "391.4175525719683"
      ]
     },
     "execution_count": 17,
     "metadata": {},
     "output_type": "execute_result"
    }
   ],
   "source": [
    "# Relative difference in time of flight in %\n",
    "(TOFbi - TOFH) / TOFH * 100"
   ]
  }
 ],
 "metadata": {
  "kernelspec": {
   "display_name": "Python 3",
   "language": "python",
   "name": "python3"
  },
  "language_info": {
   "codemirror_mode": {
    "name": "ipython",
    "version": 3
   },
   "file_extension": ".py",
   "mimetype": "text/x-python",
   "name": "python",
   "nbconvert_exporter": "python",
   "pygments_lexer": "ipython3",
   "version": "3.8.8"
  }
 },
 "nbformat": 4,
 "nbformat_minor": 5
}
