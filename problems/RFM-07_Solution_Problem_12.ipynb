{
 "cells": [
  {
   "cell_type": "code",
   "execution_count": 1,
   "id": "c039262a-7087-4ee4-af54-eb71b5d3d218",
   "metadata": {},
   "outputs": [],
   "source": [
    "import numpy as np"
   ]
  },
  {
   "cell_type": "code",
   "execution_count": 2,
   "id": "6aec806d-d74c-45af-b286-fff5e68907f9",
   "metadata": {},
   "outputs": [],
   "source": [
    "# Constants for this problem\n",
    "μ = 398600.4  # Gravitational parameter of Earth in [km^3/s^2]\n",
    "R = 6378.14   # Earth radius in [km]"
   ]
  },
  {
   "cell_type": "code",
   "execution_count": 3,
   "id": "f1cc9b05-317e-49e5-acfc-aaacaecddb76",
   "metadata": {},
   "outputs": [],
   "source": [
    "# Given values for this problem\n",
    "h  =  500            # Orbit altitude in [km]\n",
    "r  = R + h           # Orbit radius in [km]\n",
    "ra = 30000           # Apocenter radius in [km]\n",
    "Δi = np.deg2rad(90)  # Inclination change in [rad]"
   ]
  },
  {
   "cell_type": "markdown",
   "id": "779ec3f4-4401-4698-b5b3-be742ac8ad47",
   "metadata": {},
   "source": [
    "### Three-impulse inclination change"
   ]
  },
  {
   "cell_type": "code",
   "execution_count": 4,
   "id": "6b6851b4-7574-4e38-945f-c2dca3aff112",
   "metadata": {},
   "outputs": [
    {
     "data": {
      "text/plain": [
       "18439.07"
      ]
     },
     "execution_count": 4,
     "metadata": {},
     "output_type": "execute_result"
    }
   ],
   "source": [
    "a = (r + ra) / 2; a  # Semi-major axis of the elliptic orbit in [km]"
   ]
  },
  {
   "cell_type": "code",
   "execution_count": 5,
   "id": "f71e9d3d-f0e9-4ad8-ab9d-1abaf33c0af6",
   "metadata": {
    "tags": []
   },
   "outputs": [
    {
     "data": {
      "text/plain": [
       "2.0975112747528453"
      ]
     },
     "execution_count": 5,
     "metadata": {},
     "output_type": "execute_result"
    }
   ],
   "source": [
    "# ΔV to \"hop onto\" the elliptic orbit in [km/s]\n",
    "V   = (μ / r)**0.5\n",
    "Vp  = (2*μ / r - μ / a)**0.5\n",
    "ΔV1 = abs(Vp - V); ΔV1"
   ]
  },
  {
   "cell_type": "code",
   "execution_count": 6,
   "id": "acb9bd37-896f-4ea9-a9c4-4603a8249245",
   "metadata": {},
   "outputs": [
    {
     "data": {
      "text/plain": [
       "3.1483951501391516"
      ]
     },
     "execution_count": 6,
     "metadata": {},
     "output_type": "execute_result"
    }
   ],
   "source": [
    "# ΔV to change inclination at pericenter of elliptic orbit [km/s]\n",
    "Va   = (2*μ / ra - μ / a)**0.5\n",
    "ΔV2 =   2*Va * np.sin(Δi/2); ΔV2"
   ]
  },
  {
   "cell_type": "code",
   "execution_count": 7,
   "id": "00e52474-8da3-4c94-aa6e-1cde3c5b099a",
   "metadata": {},
   "outputs": [
    {
     "data": {
      "text/plain": [
       "2.0975112747528453"
      ]
     },
     "execution_count": 7,
     "metadata": {},
     "output_type": "execute_result"
    }
   ],
   "source": [
    "# ΔV to finally re-circularize elliptic orbit in [km/s]\n",
    "ΔV3 = ΔV1; ΔV3  # due to symmetry"
   ]
  },
  {
   "cell_type": "code",
   "execution_count": 8,
   "id": "ac063519-741e-45d1-8833-1809ca306e2a",
   "metadata": {},
   "outputs": [
    {
     "data": {
      "text/plain": [
       "7.343417699644842"
      ]
     },
     "execution_count": 8,
     "metadata": {},
     "output_type": "execute_result"
    }
   ],
   "source": [
    "# Total ΔV for the three-impulse inclination change in [km/s]\n",
    "ΔV_3i = ΔV1 + ΔV2 + ΔV3; ΔV_3i"
   ]
  },
  {
   "cell_type": "markdown",
   "id": "ac2636a7-ab1c-4a45-a911-0c11ef49cd89",
   "metadata": {},
   "source": [
    "### One-impulse inclination change"
   ]
  },
  {
   "cell_type": "code",
   "execution_count": 9,
   "id": "ee36cd8d-09ae-4107-a3ee-30f3a5cacb1c",
   "metadata": {},
   "outputs": [
    {
     "data": {
      "text/plain": [
       "10.76585081127315"
      ]
     },
     "execution_count": 9,
     "metadata": {},
     "output_type": "execute_result"
    }
   ],
   "source": [
    "# ΔV to change inclination directly in original orbit [km/s]\n",
    "ΔV_1i = 2*V * np.sin(Δi/2); ΔV_1i"
   ]
  },
  {
   "cell_type": "markdown",
   "id": "0e48d39a-7b3e-4e87-8ad5-b4057832ccd2",
   "metadata": {},
   "source": [
    "### Comparison"
   ]
  },
  {
   "cell_type": "code",
   "execution_count": 10,
   "id": "a9d847f3-5fa9-47c1-8d80-d188501dedc9",
   "metadata": {},
   "outputs": [
    {
     "data": {
      "text/plain": [
       "3.422433111628308"
      ]
     },
     "execution_count": 10,
     "metadata": {},
     "output_type": "execute_result"
    }
   ],
   "source": [
    "ΔV_1i - ΔV_3i  # Absolute difference in ΔV in [km/s]"
   ]
  },
  {
   "cell_type": "code",
   "execution_count": 11,
   "id": "431dd678-2d51-4c22-bc9f-184d1b2a7cd0",
   "metadata": {},
   "outputs": [
    {
     "data": {
      "text/plain": [
       "31.789713341045058"
      ]
     },
     "execution_count": 11,
     "metadata": {},
     "output_type": "execute_result"
    }
   ],
   "source": [
    "(ΔV_1i - ΔV_3i) / ΔV_1i * 100  # Relative difference in ΔV in %"
   ]
  }
 ],
 "metadata": {
  "kernelspec": {
   "display_name": "Python 3",
   "language": "python",
   "name": "python3"
  },
  "language_info": {
   "codemirror_mode": {
    "name": "ipython",
    "version": 3
   },
   "file_extension": ".py",
   "mimetype": "text/x-python",
   "name": "python",
   "nbconvert_exporter": "python",
   "pygments_lexer": "ipython3",
   "version": "3.8.8"
  }
 },
 "nbformat": 4,
 "nbformat_minor": 5
}
