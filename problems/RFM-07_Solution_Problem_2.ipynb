{
 "cells": [
  {
   "cell_type": "code",
   "execution_count": 1,
   "id": "6b6851b4-7574-4e38-945f-c2dca3aff112",
   "metadata": {},
   "outputs": [],
   "source": [
    "# Constants for this problem\n",
    "μ = 324858.8  # Gravitational parameter of Venus in [km^3/s^2]\n",
    "R = 6051.8    # Venus radius in [km]"
   ]
  },
  {
   "cell_type": "code",
   "execution_count": 2,
   "id": "f71e9d3d-f0e9-4ad8-ab9d-1abaf33c0af6",
   "metadata": {},
   "outputs": [],
   "source": [
    "ai = -17110.0  # Semi-major axis of (initial) hyperbolic trajectory in [km]\n",
    "ei = 1.3690    # Eccentricity of (initial) hyperbolic trajectory\n",
    "af = 10424.1   # Semi-major axis of (final) mapping orbit in [km]\n",
    "ef = 0.39433   # Eccentricity of (final) mapping orbit"
   ]
  },
  {
   "cell_type": "code",
   "execution_count": 3,
   "id": "b14dd177-55a5-48c8-942c-4466342551fa",
   "metadata": {},
   "outputs": [
    {
     "data": {
      "text/plain": [
       "6313.59"
      ]
     },
     "execution_count": 3,
     "metadata": {},
     "output_type": "execute_result"
    }
   ],
   "source": [
    "rp = ai * (1 - ei); rp  # Pericenter radius in [km]"
   ]
  },
  {
   "cell_type": "code",
   "execution_count": 4,
   "id": "74e308db-c72e-4583-a295-85f17eef8834",
   "metadata": {},
   "outputs": [
    {
     "data": {
      "text/plain": [
       "261.78999999999996"
      ]
     },
     "execution_count": 4,
     "metadata": {},
     "output_type": "execute_result"
    }
   ],
   "source": [
    "hp = rp - R; hp  # Altitude at pericenter in [km]"
   ]
  },
  {
   "cell_type": "code",
   "execution_count": 5,
   "id": "222dfae3-2f47-4761-b56b-22cf40883018",
   "metadata": {},
   "outputs": [
    {
     "data": {
      "text/plain": [
       "11.040574188228986"
      ]
     },
     "execution_count": 5,
     "metadata": {},
     "output_type": "execute_result"
    }
   ],
   "source": [
    "Vpi = (2*μ/rp - μ/ai)**0.5; Vpi  # Velocity at pericenter of initial trajectory in [km/s]"
   ]
  },
  {
   "cell_type": "code",
   "execution_count": 6,
   "id": "e94fbb04-1065-4f63-acc2-b2b160d3150b",
   "metadata": {},
   "outputs": [
    {
     "data": {
      "text/plain": [
       "8.470158496094207"
      ]
     },
     "execution_count": 6,
     "metadata": {},
     "output_type": "execute_result"
    }
   ],
   "source": [
    "Vpf = (2*μ/rp - μ/af)**0.5; Vpf  # Velocity at pericenter of final orbit in [km/s]"
   ]
  },
  {
   "cell_type": "code",
   "execution_count": 7,
   "id": "e2b23146-aa18-4f3b-83c8-a15208613421",
   "metadata": {},
   "outputs": [
    {
     "data": {
      "text/plain": [
       "2.5704156921347785"
      ]
     },
     "execution_count": 7,
     "metadata": {},
     "output_type": "execute_result"
    }
   ],
   "source": [
    "ΔV = abs(Vpf - Vpi); ΔV  # Required velocity change in [km/s]"
   ]
  },
  {
   "cell_type": "code",
   "execution_count": 8,
   "id": "ef36e8c9-28f4-481a-80be-16dcec1404ca",
   "metadata": {},
   "outputs": [
    {
     "data": {
      "text/plain": [
       "14534.635353000001"
      ]
     },
     "execution_count": 8,
     "metadata": {},
     "output_type": "execute_result"
    }
   ],
   "source": [
    "ra = af * (1 + ef); ra  # Apocenter radius of final orbit in [km]"
   ]
  },
  {
   "cell_type": "code",
   "execution_count": 9,
   "id": "519c7d48-1815-4c15-a57f-fa6322729a33",
   "metadata": {},
   "outputs": [
    {
     "data": {
      "text/plain": [
       "8482.835353000002"
      ]
     },
     "execution_count": 9,
     "metadata": {},
     "output_type": "execute_result"
    }
   ],
   "source": [
    "ha = ra - R; ha  # Altitude at apocenter of final orbit in [km]"
   ]
  }
 ],
 "metadata": {
  "kernelspec": {
   "display_name": "Python 3",
   "language": "python",
   "name": "python3"
  },
  "language_info": {
   "codemirror_mode": {
    "name": "ipython",
    "version": 3
   },
   "file_extension": ".py",
   "mimetype": "text/x-python",
   "name": "python",
   "nbconvert_exporter": "python",
   "pygments_lexer": "ipython3",
   "version": "3.8.8"
  }
 },
 "nbformat": 4,
 "nbformat_minor": 5
}
