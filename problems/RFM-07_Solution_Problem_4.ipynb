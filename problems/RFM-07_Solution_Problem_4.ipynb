{
 "cells": [
  {
   "cell_type": "code",
   "execution_count": 1,
   "id": "4636dbe1-6a5b-4df4-9175-921e9bbfa108",
   "metadata": {},
   "outputs": [],
   "source": [
    "import numpy as np"
   ]
  },
  {
   "cell_type": "code",
   "execution_count": 2,
   "id": "6b6851b4-7574-4e38-945f-c2dca3aff112",
   "metadata": {},
   "outputs": [],
   "source": [
    "# Constants for this problem\n",
    "μ = 398600.4  # Gravitational parameter of Earth in [km^3/s^2]\n",
    "R = 6378.14   # Earth radius in [km]"
   ]
  },
  {
   "cell_type": "code",
   "execution_count": 3,
   "id": "f71e9d3d-f0e9-4ad8-ab9d-1abaf33c0af6",
   "metadata": {},
   "outputs": [],
   "source": [
    "hi = 500     # Altitude of initial orbit in [km]\n",
    "ri = R + hi  # Radius of initial orbit in [km]\n",
    "rf = 36200   # Radius of final orbit in [km]"
   ]
  },
  {
   "cell_type": "code",
   "execution_count": 4,
   "id": "bbac4047-8678-4082-a705-224e9e60fa0b",
   "metadata": {},
   "outputs": [
    {
     "data": {
      "text/plain": [
       "21539.07"
      ]
     },
     "execution_count": 4,
     "metadata": {},
     "output_type": "execute_result"
    }
   ],
   "source": [
    "a = (ri + rf) / 2; a  # Semi-major axis of transfer ellipe in [km]"
   ]
  },
  {
   "cell_type": "code",
   "execution_count": 5,
   "id": "51741d1d-6d19-455f-84bc-4c024c9de501",
   "metadata": {},
   "outputs": [
    {
     "data": {
      "text/plain": [
       "7.612606113893939"
      ]
     },
     "execution_count": 5,
     "metadata": {},
     "output_type": "execute_result"
    }
   ],
   "source": [
    "Vi = (μ/ri)**0.5; Vi  # Velocity on initial orbit in [km/s]"
   ]
  },
  {
   "cell_type": "code",
   "execution_count": 6,
   "id": "f02b3be0-78ec-44d3-9acd-da2f1e371286",
   "metadata": {},
   "outputs": [
    {
     "data": {
      "text/plain": [
       "9.869023221175262"
      ]
     },
     "execution_count": 6,
     "metadata": {},
     "output_type": "execute_result"
    }
   ],
   "source": [
    "Vpt = (2*μ/ri - μ/a)**0.5; Vpt  # Velocity at pericenter of transfer ellipse in [km/s]"
   ]
  },
  {
   "cell_type": "code",
   "execution_count": 7,
   "id": "e2b23146-aa18-4f3b-83c8-a15208613421",
   "metadata": {},
   "outputs": [
    {
     "data": {
      "text/plain": [
       "2.2564171072813224"
      ]
     },
     "execution_count": 7,
     "metadata": {},
     "output_type": "execute_result"
    }
   ],
   "source": [
    "ΔV1 = abs(Vpt - Vi); ΔV1  # ΔV for first maneuver in [km/s]"
   ]
  },
  {
   "cell_type": "code",
   "execution_count": 8,
   "id": "dddb129f-3f69-4d3b-8e2d-6ef78a8e82a2",
   "metadata": {},
   "outputs": [
    {
     "data": {
      "text/plain": [
       "1.8751525795164197"
      ]
     },
     "execution_count": 8,
     "metadata": {},
     "output_type": "execute_result"
    }
   ],
   "source": [
    "Vat = (2*μ/rf - μ/a)**0.5; Vat  # Velocity at pericenter of transfer ellipse in [km/s]"
   ]
  },
  {
   "cell_type": "code",
   "execution_count": 9,
   "id": "29a3bf70-f1df-407b-a753-0001454be055",
   "metadata": {},
   "outputs": [
    {
     "data": {
      "text/plain": [
       "3.318291845736397"
      ]
     },
     "execution_count": 9,
     "metadata": {},
     "output_type": "execute_result"
    }
   ],
   "source": [
    "Vf = (μ/rf)**0.5; Vf  # Velocity on final orbit in [km/s]"
   ]
  },
  {
   "cell_type": "code",
   "execution_count": 10,
   "id": "d8a48b1f-ff85-4280-9790-447545a481fd",
   "metadata": {},
   "outputs": [
    {
     "data": {
      "text/plain": [
       "1.4431392662199771"
      ]
     },
     "execution_count": 10,
     "metadata": {},
     "output_type": "execute_result"
    }
   ],
   "source": [
    "ΔV2 = abs(Vf - Vat); ΔV2  # ΔV for second maneuver in [km/s]"
   ]
  },
  {
   "cell_type": "code",
   "execution_count": 11,
   "id": "ca7a69b5-0c95-4041-9243-55735e356320",
   "metadata": {},
   "outputs": [
    {
     "data": {
      "text/plain": [
       "3.6995563735012995"
      ]
     },
     "execution_count": 11,
     "metadata": {},
     "output_type": "execute_result"
    }
   ],
   "source": [
    "ΔV = ΔV1 + ΔV2; ΔV  # Total ΔV in [km/s]"
   ]
  },
  {
   "cell_type": "code",
   "execution_count": 12,
   "id": "fd7787d1-7e7c-489a-ad5c-f8e19e1f7867",
   "metadata": {},
   "outputs": [
    {
     "data": {
      "text/plain": [
       "(15729.735834124089, 262.16226390206816, 4.3693710650344695)"
      ]
     },
     "execution_count": 12,
     "metadata": {},
     "output_type": "execute_result"
    }
   ],
   "source": [
    "TOF = np.pi * (a**3 / μ)**0.5  # Time of flight required for the transfer in [s]\n",
    "TOF, TOF/60, TOF/3600  # Output in seconds, minutes, and hours "
   ]
  }
 ],
 "metadata": {
  "kernelspec": {
   "display_name": "Python 3",
   "language": "python",
   "name": "python3"
  },
  "language_info": {
   "codemirror_mode": {
    "name": "ipython",
    "version": 3
   },
   "file_extension": ".py",
   "mimetype": "text/x-python",
   "name": "python",
   "nbconvert_exporter": "python",
   "pygments_lexer": "ipython3",
   "version": "3.8.8"
  }
 },
 "nbformat": 4,
 "nbformat_minor": 5
}
