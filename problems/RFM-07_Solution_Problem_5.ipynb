{
 "cells": [
  {
   "cell_type": "code",
   "execution_count": 1,
   "id": "6b6851b4-7574-4e38-945f-c2dca3aff112",
   "metadata": {},
   "outputs": [],
   "source": [
    "# Constants for this problem\n",
    "μ = 42828.3  # Gravitational parameter of Mars in [km^3/s^2]\n",
    "R = 3397     # Mars radius in [km]"
   ]
  },
  {
   "cell_type": "code",
   "execution_count": 2,
   "id": "f71e9d3d-f0e9-4ad8-ab9d-1abaf33c0af6",
   "metadata": {},
   "outputs": [],
   "source": [
    "ri = 15000  # Radius of initial orbit in [km]\n",
    "rf = 8000   # Radius of final orbit in [km]"
   ]
  },
  {
   "cell_type": "code",
   "execution_count": 3,
   "id": "bbac4047-8678-4082-a705-224e9e60fa0b",
   "metadata": {},
   "outputs": [
    {
     "data": {
      "text/plain": [
       "11500.0"
      ]
     },
     "execution_count": 3,
     "metadata": {},
     "output_type": "execute_result"
    }
   ],
   "source": [
    "a = (ri + rf) / 2; a  # Semi-major axis of transfer ellipe in [km]"
   ]
  },
  {
   "cell_type": "code",
   "execution_count": 4,
   "id": "51741d1d-6d19-455f-84bc-4c024c9de501",
   "metadata": {},
   "outputs": [
    {
     "data": {
      "text/plain": [
       "1.6897396249126668"
      ]
     },
     "execution_count": 4,
     "metadata": {},
     "output_type": "execute_result"
    }
   ],
   "source": [
    "Vi = (μ/ri)**0.5; Vi  # Velocity on initial orbit in [km/s]"
   ]
  },
  {
   "cell_type": "code",
   "execution_count": 5,
   "id": "f02b3be0-78ec-44d3-9acd-da2f1e371286",
   "metadata": {},
   "outputs": [
    {
     "data": {
      "text/plain": [
       "1.4093402711907441"
      ]
     },
     "execution_count": 5,
     "metadata": {},
     "output_type": "execute_result"
    }
   ],
   "source": [
    "Vat = (2*μ/ri - μ/a)**0.5; Vat  # Velocity at apocenter of transger ellipse in [km/s]"
   ]
  },
  {
   "cell_type": "code",
   "execution_count": 6,
   "id": "e2b23146-aa18-4f3b-83c8-a15208613421",
   "metadata": {},
   "outputs": [
    {
     "data": {
      "text/plain": [
       "0.2803993537219227"
      ]
     },
     "execution_count": 6,
     "metadata": {},
     "output_type": "execute_result"
    }
   ],
   "source": [
    "ΔV1 = abs(Vat - Vi); ΔV1  # ΔV for first maneuver in [km/s]"
   ]
  },
  {
   "cell_type": "code",
   "execution_count": 7,
   "id": "dddb129f-3f69-4d3b-8e2d-6ef78a8e82a2",
   "metadata": {},
   "outputs": [
    {
     "data": {
      "text/plain": [
       "2.6425130084826454"
      ]
     },
     "execution_count": 7,
     "metadata": {},
     "output_type": "execute_result"
    }
   ],
   "source": [
    "Vpt = (2*μ/rf - μ/a)**0.5; Vpt  # Velocity at pericenter of transger ellipse in [km/s]"
   ]
  },
  {
   "cell_type": "code",
   "execution_count": 8,
   "id": "29a3bf70-f1df-407b-a753-0001454be055",
   "metadata": {},
   "outputs": [
    {
     "data": {
      "text/plain": [
       "2.313771272187465"
      ]
     },
     "execution_count": 8,
     "metadata": {},
     "output_type": "execute_result"
    }
   ],
   "source": [
    "Vf = (μ/rf)**0.5; Vf  # Velocity on final orbit in [km/s]"
   ]
  },
  {
   "cell_type": "code",
   "execution_count": 9,
   "id": "d8a48b1f-ff85-4280-9790-447545a481fd",
   "metadata": {},
   "outputs": [
    {
     "data": {
      "text/plain": [
       "0.32874173629518033"
      ]
     },
     "execution_count": 9,
     "metadata": {},
     "output_type": "execute_result"
    }
   ],
   "source": [
    "ΔV2 = abs(Vf - Vpt); ΔV2  # ΔV for second maneuver in [km/s]"
   ]
  },
  {
   "cell_type": "code",
   "execution_count": 10,
   "id": "ca7a69b5-0c95-4041-9243-55735e356320",
   "metadata": {},
   "outputs": [
    {
     "data": {
      "text/plain": [
       "0.609141090017103"
      ]
     },
     "execution_count": 10,
     "metadata": {},
     "output_type": "execute_result"
    }
   ],
   "source": [
    "ΔV = ΔV1 + ΔV2; ΔV  # Total ΔV in [km/s]"
   ]
  }
 ],
 "metadata": {
  "kernelspec": {
   "display_name": "Python 3",
   "language": "python",
   "name": "python3"
  },
  "language_info": {
   "codemirror_mode": {
    "name": "ipython",
    "version": 3
   },
   "file_extension": ".py",
   "mimetype": "text/x-python",
   "name": "python",
   "nbconvert_exporter": "python",
   "pygments_lexer": "ipython3",
   "version": "3.10.0"
  }
 },
 "nbformat": 4,
 "nbformat_minor": 5
}
