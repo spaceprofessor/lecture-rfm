{
 "cells": [
  {
   "cell_type": "code",
   "execution_count": 1,
   "id": "5bee15ed-b6b3-4030-9a94-2c9fa9bb0994",
   "metadata": {},
   "outputs": [],
   "source": [
    "import numpy as np"
   ]
  },
  {
   "cell_type": "code",
   "execution_count": 2,
   "id": "6b6851b4-7574-4e38-945f-c2dca3aff112",
   "metadata": {},
   "outputs": [],
   "source": [
    "# Constants for this problem\n",
    "μ  = 398600.4  # Gravitational parameter of Earth in [km^3/s^2]\n",
    "R  = 6378.14   # Earth radius in [km]\n",
    "g0 = 9.80665   # Earth standard gravitational acceleration in [m/s^2]"
   ]
  },
  {
   "cell_type": "code",
   "execution_count": 3,
   "id": "f71e9d3d-f0e9-4ad8-ab9d-1abaf33c0af6",
   "metadata": {},
   "outputs": [
    {
     "data": {
      "text/plain": [
       "6698.14"
      ]
     },
     "execution_count": 3,
     "metadata": {},
     "output_type": "execute_result"
    }
   ],
   "source": [
    "mi  = 100000    # Initial mass of the Shuttle in [kg]\n",
    "Isp = 320       # Specific impulse of the Shuttle propulsion system in [s]\n",
    "Δα  = np.deg2rad(3)  # Plane change in [rad] \n",
    "h   = 320       # Orbit altitude in [km]\n",
    "r   = R + h; r  # Orbit radius in [km]"
   ]
  },
  {
   "cell_type": "code",
   "execution_count": 4,
   "id": "51741d1d-6d19-455f-84bc-4c024c9de501",
   "metadata": {},
   "outputs": [
    {
     "data": {
      "text/plain": [
       "7.714215284556682"
      ]
     },
     "execution_count": 4,
     "metadata": {},
     "output_type": "execute_result"
    }
   ],
   "source": [
    "V = (μ/r)**0.5; V  # Orbital velocity in [km/s]"
   ]
  },
  {
   "cell_type": "code",
   "execution_count": 5,
   "id": "b14dd177-55a5-48c8-942c-4466342551fa",
   "metadata": {},
   "outputs": [
    {
     "data": {
      "text/plain": [
       "0.4038692294792905"
      ]
     },
     "execution_count": 5,
     "metadata": {},
     "output_type": "execute_result"
    }
   ],
   "source": [
    "ΔV = 2 * V * np.sin(Δα / 2); ΔV  # ΔV required for plane change in [km/s]"
   ]
  },
  {
   "cell_type": "code",
   "execution_count": 6,
   "id": "915226e3-2d69-40b6-bffe-b701875986ec",
   "metadata": {},
   "outputs": [
    {
     "data": {
      "text/plain": [
       "12076.01049459951"
      ]
     },
     "execution_count": 6,
     "metadata": {},
     "output_type": "execute_result"
    }
   ],
   "source": [
    "# Propellant required for plane change in [kg]\n",
    "mp = mi * (1 - np.exp(-ΔV*1000 / (Isp * g0))); mp"
   ]
  }
 ],
 "metadata": {
  "kernelspec": {
   "display_name": "Python 3",
   "language": "python",
   "name": "python3"
  },
  "language_info": {
   "codemirror_mode": {
    "name": "ipython",
    "version": 3
   },
   "file_extension": ".py",
   "mimetype": "text/x-python",
   "name": "python",
   "nbconvert_exporter": "python",
   "pygments_lexer": "ipython3",
   "version": "3.10.0"
  }
 },
 "nbformat": 4,
 "nbformat_minor": 5
}
