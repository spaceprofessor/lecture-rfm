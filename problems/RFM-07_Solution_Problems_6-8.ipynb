{
 "cells": [
  {
   "cell_type": "code",
   "execution_count": 1,
   "id": "c039262a-7087-4ee4-af54-eb71b5d3d218",
   "metadata": {},
   "outputs": [],
   "source": [
    "import numpy as np"
   ]
  },
  {
   "cell_type": "markdown",
   "id": "779ec3f4-4401-4698-b5b3-be742ac8ad47",
   "metadata": {},
   "source": [
    "## Problem 7.6"
   ]
  },
  {
   "cell_type": "code",
   "execution_count": 2,
   "id": "6b6851b4-7574-4e38-945f-c2dca3aff112",
   "metadata": {},
   "outputs": [],
   "source": [
    "# Constants for this problem\n",
    "μE = 398600.4  # Gravitational parameter of Earth in [km^3/s^2]\n",
    "RE = 6378.14   # Earth radius in [km]"
   ]
  },
  {
   "cell_type": "code",
   "execution_count": 3,
   "id": "f71e9d3d-f0e9-4ad8-ab9d-1abaf33c0af6",
   "metadata": {
    "tags": []
   },
   "outputs": [
    {
     "data": {
      "text/plain": [
       "6578.14"
      ]
     },
     "execution_count": 3,
     "metadata": {},
     "output_type": "execute_result"
    }
   ],
   "source": [
    "hi = 200          # Altitude of initial orbit in [km]\n",
    "ri = RE + hi; ri  # Radius of initial orbit in [km]"
   ]
  },
  {
   "cell_type": "code",
   "execution_count": 4,
   "id": "acb9bd37-896f-4ea9-a9c4-4603a8249245",
   "metadata": {},
   "outputs": [],
   "source": [
    "rf = 42164  # Radius of final orbit in [km]"
   ]
  },
  {
   "cell_type": "markdown",
   "id": "ac2636a7-ab1c-4a45-a911-0c11ef49cd89",
   "metadata": {},
   "source": [
    "### Low-thrust transfer"
   ]
  },
  {
   "cell_type": "code",
   "execution_count": 5,
   "id": "77faff4a-5c21-4189-bd10-d336cc8aecb8",
   "metadata": {},
   "outputs": [
    {
     "data": {
      "text/plain": [
       "1e-06"
      ]
     },
     "execution_count": 5,
     "metadata": {},
     "output_type": "execute_result"
    }
   ],
   "source": [
    "acc = 1/1e6; acc  # Acceleration in [km/s^2]"
   ]
  },
  {
   "cell_type": "code",
   "execution_count": 6,
   "id": "51741d1d-6d19-455f-84bc-4c024c9de501",
   "metadata": {},
   "outputs": [
    {
     "data": {
      "text/plain": [
       "7.784259565380226"
      ]
     },
     "execution_count": 6,
     "metadata": {},
     "output_type": "execute_result"
    }
   ],
   "source": [
    "Vi = (μE/ri)**0.5; Vi  # Velocity on initial orbit in [km/s]"
   ]
  },
  {
   "cell_type": "code",
   "execution_count": 7,
   "id": "29a3bf70-f1df-407b-a753-0001454be055",
   "metadata": {},
   "outputs": [
    {
     "data": {
      "text/plain": [
       "3.074666122912291"
      ]
     },
     "execution_count": 7,
     "metadata": {},
     "output_type": "execute_result"
    }
   ],
   "source": [
    "Vf = (μE/rf)**0.5; Vf  # Velocity on final orbit in [km/s]"
   ]
  },
  {
   "cell_type": "code",
   "execution_count": 8,
   "id": "73ec00a3-f9bc-462f-9ced-e40dfbb77581",
   "metadata": {},
   "outputs": [
    {
     "data": {
      "text/plain": [
       "4.709593442467934"
      ]
     },
     "execution_count": 8,
     "metadata": {},
     "output_type": "execute_result"
    }
   ],
   "source": [
    "ΔV_LT = abs(Vf - Vi); ΔV_LT  # ΔV for the low-thrust transfer in [km/s]"
   ]
  },
  {
   "cell_type": "code",
   "execution_count": 9,
   "id": "4436f515-93c7-42fe-84a9-66ebd04523a1",
   "metadata": {},
   "outputs": [
    {
     "data": {
      "text/plain": [
       "(4709593.442467934, 54.50918336189739)"
      ]
     },
     "execution_count": 9,
     "metadata": {},
     "output_type": "execute_result"
    }
   ],
   "source": [
    "TOF = ΔV_LT / acc; TOF  # Time of flight for the low-thrust transfer in [s]\n",
    "TOF, TOF/86400  # Output in seconds and days "
   ]
  },
  {
   "cell_type": "markdown",
   "id": "13c41bf5-7b40-4eb5-9cba-bc94183edf0f",
   "metadata": {},
   "source": [
    "### High-thrust Hohmann transfer"
   ]
  },
  {
   "cell_type": "code",
   "execution_count": 10,
   "id": "bbac4047-8678-4082-a705-224e9e60fa0b",
   "metadata": {},
   "outputs": [
    {
     "data": {
      "text/plain": [
       "24371.07"
      ]
     },
     "execution_count": 10,
     "metadata": {},
     "output_type": "execute_result"
    }
   ],
   "source": [
    "a = (ri + rf) / 2; a  # Semi-major axis of transfer ellipe in [km]"
   ]
  },
  {
   "cell_type": "code",
   "execution_count": 11,
   "id": "dddb129f-3f69-4d3b-8e2d-6ef78a8e82a2",
   "metadata": {},
   "outputs": [
    {
     "data": {
      "text/plain": [
       "10.23884368635968"
      ]
     },
     "execution_count": 11,
     "metadata": {},
     "output_type": "execute_result"
    }
   ],
   "source": [
    "Vpt = (2*μE/ri - μE/a)**0.5; Vpt  # Velocity at pericenter of transfer ellipse in [km/s]"
   ]
  },
  {
   "cell_type": "code",
   "execution_count": 12,
   "id": "e2b23146-aa18-4f3b-83c8-a15208613421",
   "metadata": {},
   "outputs": [
    {
     "data": {
      "text/plain": [
       "2.4545841209794537"
      ]
     },
     "execution_count": 12,
     "metadata": {},
     "output_type": "execute_result"
    }
   ],
   "source": [
    "ΔV1 = abs(Vpt - Vi); ΔV1  # ΔV for first maneuver in [km/s]"
   ]
  },
  {
   "cell_type": "code",
   "execution_count": 13,
   "id": "f02b3be0-78ec-44d3-9acd-da2f1e371286",
   "metadata": {},
   "outputs": [
    {
     "data": {
      "text/plain": [
       "1.5973946306562483"
      ]
     },
     "execution_count": 13,
     "metadata": {},
     "output_type": "execute_result"
    }
   ],
   "source": [
    "Vat = (2*μE/rf - μE/a)**0.5; Vat  # Velocity at apocenter of transfer ellipse in [km/s]"
   ]
  },
  {
   "cell_type": "code",
   "execution_count": 14,
   "id": "d8a48b1f-ff85-4280-9790-447545a481fd",
   "metadata": {},
   "outputs": [
    {
     "data": {
      "text/plain": [
       "1.4772714922560428"
      ]
     },
     "execution_count": 14,
     "metadata": {},
     "output_type": "execute_result"
    }
   ],
   "source": [
    "ΔV2 = abs(Vf - Vat); ΔV2  # ΔV for second maneuver in [km/s]"
   ]
  },
  {
   "cell_type": "code",
   "execution_count": 15,
   "id": "ca7a69b5-0c95-4041-9243-55735e356320",
   "metadata": {},
   "outputs": [
    {
     "data": {
      "text/plain": [
       "3.9318556132354967"
      ]
     },
     "execution_count": 15,
     "metadata": {},
     "output_type": "execute_result"
    }
   ],
   "source": [
    "ΔV_HT = ΔV1 + ΔV2; ΔV_HT  # Total ΔV for the Hohmann transfer in [km/s]"
   ]
  },
  {
   "cell_type": "code",
   "execution_count": 16,
   "id": "704baa75-5b01-4732-926f-75fc08c1f04c",
   "metadata": {},
   "outputs": [
    {
     "data": {
      "text/plain": [
       "(18931.843391992705, 315.5307231998784, 5.25884538666464)"
      ]
     },
     "execution_count": 16,
     "metadata": {},
     "output_type": "execute_result"
    }
   ],
   "source": [
    "TOF = np.pi * (a**3 / μE)**0.5; TOF  # Time of flight for the Hohmann transfer in [s]\n",
    "TOF, TOF/60, TOF/3600  # Output in seconds, minutes, and hours "
   ]
  },
  {
   "cell_type": "markdown",
   "id": "1b62a8f5-274c-4d3c-9ff6-a657dd81d09d",
   "metadata": {},
   "source": [
    "## Problem 7.7"
   ]
  },
  {
   "cell_type": "code",
   "execution_count": 17,
   "id": "a8927de8-aa6c-4c3d-b911-536531ff30ab",
   "metadata": {},
   "outputs": [],
   "source": [
    "# Additional constants for this problem\n",
    "g0 = 9.80665  # Earth standard gravitational acceleration in [m/s^2]"
   ]
  },
  {
   "cell_type": "code",
   "execution_count": 18,
   "id": "1dbf7c2c-a79d-489e-9c6a-bff7488d1c70",
   "metadata": {},
   "outputs": [],
   "source": [
    "mf = 1000       # Dry mass (= final mass) of the S/C in [kg]\n",
    "Isp_HT = 460    # Specific impulse of the chemical high-thrust system in [s]\n",
    "Isp_LT = 4000   # Specific impulse of the electrical low-thrust system in [s]"
   ]
  },
  {
   "cell_type": "code",
   "execution_count": 19,
   "id": "42bbec35-bc29-4305-84c1-1fa10b935309",
   "metadata": {},
   "outputs": [
    {
     "data": {
      "text/plain": [
       "1390.7417593930882"
      ]
     },
     "execution_count": 19,
     "metadata": {},
     "output_type": "execute_result"
    }
   ],
   "source": [
    "# Propellant mass required for the chemical high-thrust transfer in [kg]:\n",
    "mp_HT = mf * (np.exp(ΔV_HT*1000 / (Isp_HT * g0)) - 1); mp_HT"
   ]
  },
  {
   "cell_type": "code",
   "execution_count": 20,
   "id": "24c83b03-1470-4ca0-b9d5-eb487690652b",
   "metadata": {},
   "outputs": [
    {
     "data": {
      "text/plain": [
       "127.56587876254733"
      ]
     },
     "execution_count": 20,
     "metadata": {},
     "output_type": "execute_result"
    }
   ],
   "source": [
    "# Propellant mass required for the electrical low-thrust transfer in [kg]:\n",
    "mp_LT = mf * (np.exp(ΔV_LT*1000 / (Isp_LT * g0)) - 1); mp_LT"
   ]
  },
  {
   "cell_type": "markdown",
   "id": "3df8a6ec-b11b-44de-9561-67359932d6ac",
   "metadata": {},
   "source": [
    "## Problem 7.8"
   ]
  },
  {
   "cell_type": "code",
   "execution_count": 21,
   "id": "6aec806d-d74c-45af-b286-fff5e68907f9",
   "metadata": {},
   "outputs": [],
   "source": [
    "# Additional constants for this problem\n",
    "μS = 132712439935.5 # Gravitational parameter of the Sun in [km^3/s^2]\n",
    "au = 149597870.7    # 1 au in [km]"
   ]
  },
  {
   "cell_type": "code",
   "execution_count": 22,
   "id": "85687e23-d3b3-4304-9e1e-b09ec4096074",
   "metadata": {},
   "outputs": [
    {
     "data": {
      "text/plain": [
       "(0.0016901132200821435, 1.6901132200821436)"
      ]
     },
     "execution_count": 22,
     "metadata": {},
     "output_type": "execute_result"
    }
   ],
   "source": [
    "dadt_LEO = 2 * (ri**3 / μE)**0.5 * acc  # LEO: rate of change of semi-major axis, da/dt, in [km/s] \n",
    "dadt_LEO, dadt_LEO*1000  # Output in [km/s] and [m/s]"
   ]
  },
  {
   "cell_type": "code",
   "execution_count": 23,
   "id": "4a11bd16-4c41-4f4c-9fc5-3825796cda2d",
   "metadata": {},
   "outputs": [
    {
     "data": {
      "text/plain": [
       "(7784259.565380226, 90.09559682153039)"
      ]
     },
     "execution_count": 23,
     "metadata": {},
     "output_type": "execute_result"
    }
   ],
   "source": [
    "tesc_LEO = (μE / ri)**0.5 / acc  # Time to reach Earth-escape velocity from LEO in [s]\n",
    "tesc_LEO, tesc_LEO/86400  # Output in seconds and days"
   ]
  },
  {
   "cell_type": "code",
   "execution_count": 24,
   "id": "06b89a7c-69b2-435e-ba17-ff64120e1a8d",
   "metadata": {},
   "outputs": [
    {
     "data": {
      "text/plain": [
       "10.045285785854372"
      ]
     },
     "execution_count": 24,
     "metadata": {},
     "output_type": "execute_result"
    }
   ],
   "source": [
    "dadt_1au = 2 * ((1*au)**3 / μS)**0.5 * acc  # 1 au: rate of change of semi-major axis, da/dt, in [km/s] \n",
    "dadt_1au"
   ]
  },
  {
   "cell_type": "code",
   "execution_count": 25,
   "id": "1587d906-623c-449e-a358-4d7dc3a6d6e9",
   "metadata": {},
   "outputs": [
    {
     "data": {
      "text/plain": [
       "(29784691.822439056, 344.73022942637795)"
      ]
     },
     "execution_count": 25,
     "metadata": {},
     "output_type": "execute_result"
    }
   ],
   "source": [
    "tesc_1au = (μS / (1*au))**0.5 / acc  # Time to reach solar-system-escape velocity from 1 au in [s]\n",
    "tesc_1au, tesc_1au/86400  # Output in seconds and days"
   ]
  }
 ],
 "metadata": {
  "kernelspec": {
   "display_name": "Python 3",
   "language": "python",
   "name": "python3"
  },
  "language_info": {
   "codemirror_mode": {
    "name": "ipython",
    "version": 3
   },
   "file_extension": ".py",
   "mimetype": "text/x-python",
   "name": "python",
   "nbconvert_exporter": "python",
   "pygments_lexer": "ipython3",
   "version": "3.8.8"
  }
 },
 "nbformat": 4,
 "nbformat_minor": 5
}
